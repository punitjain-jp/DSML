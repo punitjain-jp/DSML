{
  "nbformat": 4,
  "nbformat_minor": 0,
  "metadata": {
    "colab": {
      "provenance": [],
      "authorship_tag": "ABX9TyMKudEtWjxLnShQnCg27VzG",
      "include_colab_link": true
    },
    "kernelspec": {
      "name": "python3",
      "display_name": "Python 3"
    },
    "language_info": {
      "name": "python"
    }
  },
  "cells": [
    {
      "cell_type": "markdown",
      "metadata": {
        "id": "view-in-github",
        "colab_type": "text"
      },
      "source": [
        "<a href=\"https://colab.research.google.com/github/punitjain-jp/DSML/blob/main/Python_01.ipynb\" target=\"_parent\"><img src=\"https://colab.research.google.com/assets/colab-badge.svg\" alt=\"Open In Colab\"/></a>"
      ]
    },
    {
      "cell_type": "markdown",
      "source": [
        "**Python Basics File | 23 April 2025**\n",
        "\n",
        "*NOTE: Every value inside python is an object.*"
      ],
      "metadata": {
        "id": "yCMh9ejBCqVI"
      }
    },
    {
      "cell_type": "markdown",
      "source": [
        "Agenda_01: Data Types | Operators | Control Statements"
      ],
      "metadata": {
        "id": "eQvdhfoQC-d7"
      }
    },
    {
      "cell_type": "code",
      "execution_count": null,
      "metadata": {
        "id": "ALAj-YBq_1Gq"
      },
      "outputs": [],
      "source": [
        "# Variables are containers to keep objects\n",
        "\n",
        "#DataTypes:\n",
        "A=1       #INT\n",
        "B=1.5     #FLOAT\n",
        "C=\"ABC\"   #CHAR|STRING\n",
        "D=True    #Boolean\n",
        "E=False   #Boolean\n",
        "F=None    #None\n",
        "\n",
        "#In-built Functions:\n",
        "type(A)   #In-built function used to find type of object\n",
        "input()   #In-built function used to take input at runtime\n",
        "\n",
        "#Typecasting:\n",
        "int()\n",
        "str()\n",
        "float()"
      ]
    },
    {
      "cell_type": "markdown",
      "source": [],
      "metadata": {
        "id": "JcYbTgQ2DiYO"
      }
    },
    {
      "cell_type": "code",
      "source": [],
      "metadata": {
        "id": "h-3ug6XxDiwf"
      },
      "execution_count": null,
      "outputs": []
    }
  ]
}