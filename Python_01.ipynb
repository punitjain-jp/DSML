{
  "nbformat": 4,
  "nbformat_minor": 0,
  "metadata": {
    "colab": {
      "provenance": [],
      "authorship_tag": "ABX9TyN9ApPQR8xNESClQO8+HugE",
      "include_colab_link": true
    },
    "kernelspec": {
      "name": "python3",
      "display_name": "Python 3"
    },
    "language_info": {
      "name": "python"
    }
  },
  "cells": [
    {
      "cell_type": "markdown",
      "metadata": {
        "id": "view-in-github",
        "colab_type": "text"
      },
      "source": [
        "<a href=\"https://colab.research.google.com/github/punitjain-jp/DSML/blob/main/Python_01.ipynb\" target=\"_parent\"><img src=\"https://colab.research.google.com/assets/colab-badge.svg\" alt=\"Open In Colab\"/></a>"
      ]
    },
    {
      "cell_type": "markdown",
      "source": [
        "**Python Basics File | 23 April 2025**\n",
        "\n",
        "*NOTE: Every value inside python is an object.*"
      ],
      "metadata": {
        "id": "yCMh9ejBCqVI"
      }
    },
    {
      "cell_type": "markdown",
      "source": [
        "**THE BASICS**\n",
        "\n",
        "Q1: Programming language?\n",
        "    What is Code?\n",
        "\n",
        "Q2: Computer understandable language\n",
        "\n",
        "Q3: High-Level Language | Low-Level Language | Machine Language(Binary)\n",
        "\n",
        "Q4: How program works: Source Code -> Translator -> Machine Code\n",
        "\n",
        "Q5: Translator and it's types: Interpreter | Compiler\n",
        "\n",
        "Q6: Types of Programming Language: Interpreted | Compiled\n",
        "\n",
        "Q7: Where to write Code: Terminal | Editor | IDE | Notebook | Online IDE/Editor/Translator Services\n",
        "\n",
        "Q8: Systems Configurations: Mac-iOS | Windows | Linux"
      ],
      "metadata": {
        "id": "9ripkJPdT-gy"
      }
    },
    {
      "cell_type": "markdown",
      "source": [
        "**PYTHON**\n",
        "\n",
        "Q1: What is Python?\n",
        "\n",
        "Q2: Versions of Python: Python2 | Python3\n",
        "\n",
        "Q3: Where to write Python Code?\n",
        "\n",
        "Q4: Download from python.org | CPython | Interpreter\n",
        "\n",
        "Q5: First Python Program\n",
        "\n",
        "Advance Concept {The Flow}:\n",
        "\n",
        "Python_Source_Code => CPython_Interpreter => Byte Code (It is closer to machine code) => Runs it on Cpython_VM (runs on our machine through the application) => Output is displayed\n"
      ],
      "metadata": {
        "id": "FQ0u7BF1XvRH"
      }
    },
    {
      "cell_type": "markdown",
      "source": [
        "**WHY SO MANY PROGRAMMING LANGUAGES**"
      ],
      "metadata": {
        "id": "2CuLaxs9YfBa"
      }
    },
    {
      "cell_type": "markdown",
      "source": [
        "**Agenda_01**: Intro | Data Types | I/O | Operators | Control Statements"
      ],
      "metadata": {
        "id": "eQvdhfoQC-d7"
      }
    },
    {
      "cell_type": "code",
      "execution_count": null,
      "metadata": {
        "id": "ALAj-YBq_1Gq"
      },
      "outputs": [],
      "source": [
        "#Variables are containers to keep objects\n",
        "\n",
        "#DataTypes:\n",
        "A=1       #INT\n",
        "B=1.5     #FLOAT\n",
        "C=\"ABC\"   #CHAR|STRING\n",
        "D=True    #Boolean\n",
        "E=False   #Boolean\n",
        "F=None    #None"
      ]
    },
    {
      "cell_type": "code",
      "source": [
        "#In-built Functions:\n",
        "type(A)   #In-built function used to find type of object\n",
        "input()   #In-built function used to take input at runtime\n",
        "bool()    #Every value except zero/empty-string results as True #Operator"
      ],
      "metadata": {
        "id": "h-3ug6XxDiwf"
      },
      "execution_count": null,
      "outputs": []
    },
    {
      "cell_type": "code",
      "source": [
        "#Typecasting:\n",
        "int()\n",
        "str()\n",
        "float()"
      ],
      "metadata": {
        "id": "zkmChjLmTNTw"
      },
      "execution_count": null,
      "outputs": []
    },
    {
      "cell_type": "code",
      "source": [
        "#Operators:\n",
        "#Arithemetic: +, -, *, /, **, //, %\n",
        "#Comparison: >, <, >=, =<, ==(equality operator), !=\n",
        "#Assignment: =\n",
        "#Logical: AND, OR, NOT"
      ],
      "metadata": {
        "id": "-6_XXHnaTRWg"
      },
      "execution_count": null,
      "outputs": []
    },
    {
      "cell_type": "code",
      "source": [
        "#Control Statements:\n",
        "#IF\n",
        "#IF-ELSE\n",
        "#IF-ELIF-ELSE\n",
        "#CASE-WHEN-THEN-END"
      ],
      "metadata": {
        "id": "S0J1e6wxTUTc"
      },
      "execution_count": null,
      "outputs": []
    }
  ]
}